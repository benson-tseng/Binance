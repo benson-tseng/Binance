{
 "cells": [
  {
   "cell_type": "code",
   "execution_count": 5,
   "id": "3745713e-0363-4450-bc04-e792318b58d7",
   "metadata": {},
   "outputs": [],
   "source": [
    "import requests\n",
    "response = requests.post('https://benson-bot-node.herokuapp.com/pushmsg',\n",
    "                         data={\"userId\":\"U3a19c1e23facc0e8b3bf4ee7a97b52ba\",\"msg\":\"了解\"})"
   ]
  },
  {
   "cell_type": "code",
   "execution_count": null,
   "id": "275d6169-dc74-4d6f-9fc0-879a631261ab",
   "metadata": {},
   "outputs": [],
   "source": []
  }
 ],
 "metadata": {
  "kernelspec": {
   "display_name": "Python 3 (ipykernel)",
   "language": "python",
   "name": "python3"
  },
  "language_info": {
   "codemirror_mode": {
    "name": "ipython",
    "version": 3
   },
   "file_extension": ".py",
   "mimetype": "text/x-python",
   "name": "python",
   "nbconvert_exporter": "python",
   "pygments_lexer": "ipython3",
   "version": "3.9.6"
  }
 },
 "nbformat": 4,
 "nbformat_minor": 5
}
