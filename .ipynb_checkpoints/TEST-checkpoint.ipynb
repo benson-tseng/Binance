{
 "cells": [
  {
   "cell_type": "code",
   "execution_count": 2,
   "id": "3745713e-0363-4450-bc04-e792318b58d7",
   "metadata": {},
   "outputs": [],
   "source": [
    "import requests\n",
    "response = requests.post('https://benson-bot-node.herokuapp.com/pushmsg',\n",
    "                         data={\"userId\":\"U1f1b16cd25612228b144370f3d4e0b38\",\"msg\":\"貓貓\\n貓貓\"})"
   ]
  },
  {
   "cell_type": "code",
   "execution_count": 33,
   "id": "275d6169-dc74-4d6f-9fc0-879a631261ab",
   "metadata": {},
   "outputs": [
    {
     "name": "stdout",
     "output_type": "stream",
     "text": [
      "初始價格100，最高價格110，已觸及第二階段停利(8%/5%)，目前價格104，損益率為4%，觸發停利機制\n",
      "\n",
      "執行平倉策略\n",
      "將current_position設定為2 停利停損中\n",
      "將 initial_equity 設為 current_equity\n",
      "重設停利停損觸發機制\n",
      "本次達獲利率 0.08 ，停損於 0.05，實際獲利率為 0.040000000000000036\n",
      "新的初始金額為 104\n"
     ]
    }
   ],
   "source": [
    "initial_equity=100\n",
    "current_equity=110\n",
    "equity_percent_change = current_equity/initial_equity-1\n",
    "\n",
    "if 'stop_profit_point' in globals():\n",
    "    None\n",
    "else:\n",
    "    stop_profit_point = 0\n",
    "\n",
    "dic={0.05:0.03,\n",
    "    0.08:0.05,\n",
    "    0.12:0.08,\n",
    "    0.15:0.12,\n",
    "    0.18:0.15}\n",
    "\n",
    "for i in dic.keys():\n",
    "    if equity_percent_change > i:\n",
    "        stop_profit_point=i\n",
    "\n",
    "print('初始價格100，最高價格110，已觸及第二階段停利(8%/5%)，目前價格104，損益率為4%，觸發停利機制\\n')\n",
    "\n",
    "current_equity=104\n",
    "equity_percent_change = current_equity/initial_equity-1\n",
    "\n",
    "if stop_profit_point != 0:\n",
    "    if equity_percent_change < dic[stop_profit_point]:\n",
    "        temp=current_equity/initial_equity-1\n",
    "        print('執行平倉策略') ## close_position\n",
    "        print('將current_position設定為2 停利停損中') ## current_position=2\n",
    "        print('將 initial_equity 設為 current_equity')\n",
    "        initial_equity = current_equity\n",
    "        print('重設停利停損觸發機制')\n",
    "        stop_profit_point = 0\n",
    "        print('本次達獲利率 {} ，停損於 {}，實際獲利率為 {}'.format(str(stop_profit_point)\n",
    "                                                                ,str(dic[stop_profit_point])\n",
    "                                                                ,temp))\n",
    "        print('新的初始金額為 {}'.format(str(initial_equity)))\n"
   ]
  },
  {
   "cell_type": "code",
   "execution_count": 38,
   "id": "ec9affa1-48e9-41d1-a5df-e356a734edfa",
   "metadata": {},
   "outputs": [
    {
     "name": "stdout",
     "output_type": "stream",
     "text": [
      "目前的最高獲利率0.10000000000000009\n"
     ]
    }
   ],
   "source": [
    "if 'stop_profit_point' in globals():\n",
    "    None\n",
    "else:\n",
    "    stop_profit_point = 0\n",
    "\n",
    "if 'highest_equity_percent_change' in globals():\n",
    "    None\n",
    "else:\n",
    "    highest_equity_percent_change=0\n",
    "    \n",
    "initial_equity=100\n",
    "current_equity=110\n",
    "equity_percent_change = current_equity/initial_equity-1\n",
    "\n",
    "if equity_percent_change > highest_equity_percent_change:\n",
    "    highest_equity_percent_change = equity_percent_change\n",
    "\n",
    "print('目前的最高獲利率{}'.format(highest_equity_percent_change))\n",
    "stop_profit_point = \n",
    "\n",
    "    "
   ]
  },
  {
   "cell_type": "code",
   "execution_count": 37,
   "id": "d2abb92a-625f-45f2-ae0d-a1d7cbb79059",
   "metadata": {},
   "outputs": [
    {
     "data": {
      "text/plain": [
       "0.10000000000000009"
      ]
     },
     "execution_count": 37,
     "metadata": {},
     "output_type": "execute_result"
    }
   ],
   "source": [
    "highest_equity_percent_change"
   ]
  },
  {
   "cell_type": "code",
   "execution_count": null,
   "id": "b7ae90af-52dc-45d3-8e98-0305a1a053e9",
   "metadata": {},
   "outputs": [],
   "source": []
  }
 ],
 "metadata": {
  "kernelspec": {
   "display_name": "Python 3 (ipykernel)",
   "language": "python",
   "name": "python3"
  },
  "language_info": {
   "codemirror_mode": {
    "name": "ipython",
    "version": 3
   },
   "file_extension": ".py",
   "mimetype": "text/x-python",
   "name": "python",
   "nbconvert_exporter": "python",
   "pygments_lexer": "ipython3",
   "version": "3.9.6"
  }
 },
 "nbformat": 4,
 "nbformat_minor": 5
}
